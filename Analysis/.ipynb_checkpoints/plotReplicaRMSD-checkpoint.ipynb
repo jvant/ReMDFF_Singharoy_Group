{
 "cells": [
  {
   "cell_type": "code",
   "execution_count": 3,
   "metadata": {},
   "outputs": [],
   "source": [
    "import matplotlib.pyplot as plt\n",
    "from getReplicaRMSD import getReplicaRMSD"
   ]
  },
  {
   "cell_type": "code",
   "execution_count": 1,
   "metadata": {},
   "outputs": [],
   "source": [
    "def plotReplicaRMSD(replica, color='k', ax=None, figName=None):\n",
    "    if ax == None:\n",
    "        fig, ax = plt.subplots(1)\n",
    "    dat = getReplicaRMSD(replica)\n",
    "    ax.plot(dat, color=color, lw=2)\n",
    "    ax.set_xlabel(\"Frame #\")\n",
    "    ax.set_ylabel(\"RMSD ($\\AA$)\", fontsize=18)\n",
    "    ax.yaxis.set_tick_params(labelsize=18)"
   ]
  },
  {
   "cell_type": "code",
   "execution_count": null,
   "metadata": {},
   "outputs": [],
   "source": []
  }
 ],
 "metadata": {
  "kernelspec": {
   "display_name": "Python 2",
   "language": "python",
   "name": "python2"
  },
  "language_info": {
   "codemirror_mode": {
    "name": "ipython",
    "version": 2
   },
   "file_extension": ".py",
   "mimetype": "text/x-python",
   "name": "python",
   "nbconvert_exporter": "python",
   "pygments_lexer": "ipython2",
   "version": "2.7.15"
  }
 },
 "nbformat": 4,
 "nbformat_minor": 2
}
